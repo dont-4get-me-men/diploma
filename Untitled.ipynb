{
 "cells": [
  {
   "cell_type": "markdown",
   "id": "beb0dba6",
   "metadata": {},
   "source": [
    "### Sentiment analysis"
   ]
  },
  {
   "cell_type": "code",
   "execution_count": 1,
   "id": "65ae3af7",
   "metadata": {},
   "outputs": [],
   "source": [
    "import pandas as pd \n",
    "import numpy as np"
   ]
  },
  {
   "cell_type": "code",
   "execution_count": 2,
   "id": "efa93444",
   "metadata": {},
   "outputs": [
    {
     "data": {
      "text/html": [
       "<div>\n",
       "<style scoped>\n",
       "    .dataframe tbody tr th:only-of-type {\n",
       "        vertical-align: middle;\n",
       "    }\n",
       "\n",
       "    .dataframe tbody tr th {\n",
       "        vertical-align: top;\n",
       "    }\n",
       "\n",
       "    .dataframe thead th {\n",
       "        text-align: right;\n",
       "    }\n",
       "</style>\n",
       "<table border=\"1\" class=\"dataframe\">\n",
       "  <thead>\n",
       "    <tr style=\"text-align: right;\">\n",
       "      <th></th>\n",
       "      <th>textID</th>\n",
       "      <th>text</th>\n",
       "      <th>selected_text</th>\n",
       "      <th>sentiment</th>\n",
       "    </tr>\n",
       "  </thead>\n",
       "  <tbody>\n",
       "    <tr>\n",
       "      <th>0</th>\n",
       "      <td>cb774db0d1</td>\n",
       "      <td>I`d have responded, if I were going</td>\n",
       "      <td>I`d have responded, if I were going</td>\n",
       "      <td>neutral</td>\n",
       "    </tr>\n",
       "    <tr>\n",
       "      <th>1</th>\n",
       "      <td>549e992a42</td>\n",
       "      <td>Sooo SAD I will miss you here in San Diego!!!</td>\n",
       "      <td>Sooo SAD</td>\n",
       "      <td>negative</td>\n",
       "    </tr>\n",
       "    <tr>\n",
       "      <th>2</th>\n",
       "      <td>088c60f138</td>\n",
       "      <td>my boss is bullying me...</td>\n",
       "      <td>bullying me</td>\n",
       "      <td>negative</td>\n",
       "    </tr>\n",
       "    <tr>\n",
       "      <th>3</th>\n",
       "      <td>9642c003ef</td>\n",
       "      <td>what interview! leave me alone</td>\n",
       "      <td>leave me alone</td>\n",
       "      <td>negative</td>\n",
       "    </tr>\n",
       "    <tr>\n",
       "      <th>4</th>\n",
       "      <td>358bd9e861</td>\n",
       "      <td>Sons of ****, why couldn`t they put them on t...</td>\n",
       "      <td>Sons of ****,</td>\n",
       "      <td>negative</td>\n",
       "    </tr>\n",
       "  </tbody>\n",
       "</table>\n",
       "</div>"
      ],
      "text/plain": [
       "       textID                                               text  \\\n",
       "0  cb774db0d1                I`d have responded, if I were going   \n",
       "1  549e992a42      Sooo SAD I will miss you here in San Diego!!!   \n",
       "2  088c60f138                          my boss is bullying me...   \n",
       "3  9642c003ef                     what interview! leave me alone   \n",
       "4  358bd9e861   Sons of ****, why couldn`t they put them on t...   \n",
       "\n",
       "                         selected_text sentiment  \n",
       "0  I`d have responded, if I were going   neutral  \n",
       "1                             Sooo SAD  negative  \n",
       "2                          bullying me  negative  \n",
       "3                       leave me alone  negative  \n",
       "4                        Sons of ****,  negative  "
      ]
     },
     "execution_count": 2,
     "metadata": {},
     "output_type": "execute_result"
    }
   ],
   "source": [
    "df = pd.read_csv('/home/dfm4ik/Documents/Scripts/python_folder/diploma/sentiment_twitter.csv')\n",
    "\n",
    "df.head()"
   ]
  },
  {
   "cell_type": "code",
   "execution_count": 3,
   "id": "cf9eb9ff",
   "metadata": {},
   "outputs": [
    {
     "name": "stderr",
     "output_type": "stream",
     "text": [
      "/tmp/ipykernel_7636/1929853925.py:4: SettingWithCopyWarning: \n",
      "A value is trying to be set on a copy of a slice from a DataFrame.\n",
      "Try using .loc[row_indexer,col_indexer] = value instead\n",
      "\n",
      "See the caveats in the documentation: https://pandas.pydata.org/pandas-docs/stable/user_guide/indexing.html#returning-a-view-versus-a-copy\n",
      "  df_pos_neg['sentiment'] = df_pos_neg['sentiment'].map({'positive':1,'negative':0})\n"
     ]
    }
   ],
   "source": [
    "df_pos_neg = df[df['sentiment'].isin(['positive','negative'])]\n",
    "\n",
    "\n",
    "df_pos_neg['sentiment'] = df_pos_neg['sentiment'].map({'positive':1,'negative':0})\n"
   ]
  },
  {
   "cell_type": "code",
   "execution_count": 4,
   "id": "bbc8441a",
   "metadata": {},
   "outputs": [],
   "source": [
    "df_pos_neg = df_pos_neg[['text','sentiment']]"
   ]
  },
  {
   "cell_type": "code",
   "execution_count": 5,
   "id": "857d3584",
   "metadata": {},
   "outputs": [],
   "source": [
    "import re \n",
    "from nltk.stem.porter import PorterStemmer\n",
    "\n",
    "import nltk\n",
    "\n",
    "\n",
    "#\n",
    "df_pos_neg['without_links'] = df_pos_neg['text'].apply(lambda x : re.sub(r\"@[A-Za-z0-9]\",' ',x))\n",
    "df_pos_neg['without_links'] = df_pos_neg['text'].apply(lambda x : re.sub(r\"[^A-Za-z0-9]+\",' ',x))\n",
    "df_pos_neg['without_links'] = df_pos_neg['without_links'].apply(lambda x : \n",
    "                                                                re.sub(r\"https?://[A-Za-z0-9./]+\",' ', x ))\n",
    "def step(x):\n",
    "    y = x.split()\n",
    "    porter_stemmer = PorterStemmer()\n",
    "    stopwords = nltk.corpus.stopwords.words('english')\n",
    "    y = [porter_stemmer.stem(word.lower()) for word in y if word not in set(stopwords)]\n",
    "    y = \" \".join(y)                                                          \n",
    "    return y\n",
    "df_pos_neg['without_links'] = df_pos_neg['without_links'].apply(lambda x: step(x))"
   ]
  },
  {
   "cell_type": "code",
   "execution_count": 6,
   "id": "6ec9660a",
   "metadata": {},
   "outputs": [],
   "source": [
    "w_tokenizer = nltk.tokenize.WhitespaceTokenizer()\n",
    "lemmatizer = nltk.stem.WordNetLemmatizer()\n",
    "def lemmatize_text(text):\n",
    "    st = \"\"\n",
    "    for w in w_tokenizer.tokenize(text):\n",
    "        st = st + lemmatizer.lemmatize(w) + \" \"\n",
    "    return st\n",
    "df_pos_neg['without_links'] = df_pos_neg['without_links'].apply(lemmatize_text)"
   ]
  },
  {
   "cell_type": "code",
   "execution_count": 7,
   "id": "0dfa9ef8",
   "metadata": {},
   "outputs": [],
   "source": [
    "from sklearn.model_selection import train_test_split\n",
    "from sklearn.feature_extraction.text import CountVectorizer\n",
    "cv = CountVectorizer(max_features=800)\n",
    "\n",
    "X = cv.fit_transform(df_pos_neg['without_links']).toarray()\n",
    "y = df_pos_neg['sentiment']\n",
    "\n",
    "X_train, X_test, y_train, y_test = train_test_split(X, y, test_size=0.33, random_state=42)"
   ]
  },
  {
   "cell_type": "code",
   "execution_count": 8,
   "id": "7039faea",
   "metadata": {},
   "outputs": [
    {
     "name": "stdout",
     "output_type": "stream",
     "text": [
      "Gaussian 0.7981481481481482\n",
      "Multinomial 0.8422222222222222\n",
      "Bernoulli 0.8433333333333334\n"
     ]
    }
   ],
   "source": [
    "from sklearn.naive_bayes import GaussianNB, MultinomialNB, BernoulliNB\n",
    "from sklearn.metrics import accuracy_score\n",
    "# Naive Bayes Classifiers\n",
    "gnb = GaussianNB()\n",
    "mnb = MultinomialNB()\n",
    "bnb = BernoulliNB()\n",
    "# fitting and predicting\n",
    "gnb.fit(X_train, y_train)\n",
    "y_pred_gnb = gnb.predict(X_test)\n",
    "mnb.fit(X_train, y_train)\n",
    "y_pred_mnb = mnb.predict(X_test)\n",
    "bnb.fit(X_train, y_train)\n",
    "y_pred_bnb = bnb.predict(X_test)\n",
    "# accuracy scores\n",
    "print(\"Gaussian\", accuracy_score(y_test, y_pred_gnb))\n",
    "print(\"Multinomial\", accuracy_score(y_test, y_pred_mnb))\n",
    "print(\"Bernoulli\", accuracy_score(y_test, y_pred_bnb))"
   ]
  },
  {
   "cell_type": "markdown",
   "id": "ba184cbb",
   "metadata": {},
   "source": [
    "### Варіант з трансформерами"
   ]
  },
  {
   "cell_type": "code",
   "execution_count": 9,
   "id": "efa1b01d",
   "metadata": {},
   "outputs": [
    {
     "data": {
      "text/plain": [
       "list[1            Sooo SAD I will miss you here in San Diego!!!\n",
       "2                                my boss is bullying me...\n",
       "3                           what interview! leave me alone\n",
       "4         Sons of ****, why couldn`t they put them on t...\n",
       "6        2am feedings for the baby are fun when he is a...\n",
       "                               ...                        \n",
       "27475                                       enjoy ur night\n",
       "27476     wish we could come see u on Denver  husband l...\n",
       "27477     I`ve wondered about rake to.  The client has ...\n",
       "27478     Yay good for both of you. Enjoy the break - y...\n",
       "27479                           But it was worth it  ****.\n",
       "Name: text, Length: 16363, dtype: object]"
      ]
     },
     "execution_count": 9,
     "metadata": {},
     "output_type": "execute_result"
    }
   ],
   "source": [
    "list[df_pos_neg['text']]"
   ]
  },
  {
   "cell_type": "code",
   "execution_count": null,
   "id": "eb9e2ac5",
   "metadata": {},
   "outputs": [],
   "source": []
  },
  {
   "cell_type": "code",
   "execution_count": 19,
   "id": "235d01ad",
   "metadata": {},
   "outputs": [],
   "source": [
    "X_train, X_test, y_train, y_test = train_test_split(df_pos_neg['text'], df_pos_neg['sentiment'], test_size=0.33, random_state=42)"
   ]
  },
  {
   "cell_type": "code",
   "execution_count": 25,
   "id": "3b49f700",
   "metadata": {
    "scrolled": false
   },
   "outputs": [
    {
     "name": "stderr",
     "output_type": "stream",
     "text": [
      "No model was supplied, defaulted to distilbert-base-uncased-finetuned-sst-2-english and revision af0f99b (https://huggingface.co/distilbert-base-uncased-finetuned-sst-2-english).\n",
      "Using a pipeline without specifying a model name and revision in production is not recommended.\n",
      "All PyTorch model weights were used when initializing TFDistilBertForSequenceClassification.\n",
      "\n",
      "All the weights of TFDistilBertForSequenceClassification were initialized from the PyTorch model.\n",
      "If your task is similar to the task the model of the checkpoint was trained on, you can already use TFDistilBertForSequenceClassification for predictions without further training.\n"
     ]
    }
   ],
   "source": [
    "from tqdm.notebook import tqdm_notebook\n",
    "\n",
    "from transformers import pipeline\n",
    "sentiment_pipeline = pipeline(\"sentiment-analysis\")\n",
    "data = X_train.to_list()\n",
    "resi = sentiment_pipeline(data)"
   ]
  },
  {
   "cell_type": "code",
   "execution_count": 22,
   "id": "31a328c0",
   "metadata": {},
   "outputs": [
    {
     "data": {
      "text/plain": [
       "[{'label': 'NEGATIVE', 'score': 0.9981662631034851},\n",
       " {'label': 'NEGATIVE', 'score': 0.9992057681083679},\n",
       " {'label': 'NEGATIVE', 'score': 0.6723793148994446},\n",
       " {'label': 'NEGATIVE', 'score': 0.934939980506897},\n",
       " {'label': 'POSITIVE', 'score': 0.9995324611663818},\n",
       " {'label': 'NEGATIVE', 'score': 0.9799122214317322},\n",
       " {'label': 'POSITIVE', 'score': 0.9995988011360168},\n",
       " {'label': 'POSITIVE', 'score': 0.971942126750946},\n",
       " {'label': 'POSITIVE', 'score': 0.986527144908905},\n",
       " {'label': 'POSITIVE', 'score': 0.998678982257843}]"
      ]
     },
     "execution_count": 22,
     "metadata": {},
     "output_type": "execute_result"
    }
   ],
   "source": [
    "resi[0:10]"
   ]
  },
  {
   "cell_type": "code",
   "execution_count": 26,
   "id": "556f4ef6",
   "metadata": {},
   "outputs": [],
   "source": [
    "resi2 = pd.DataFrame(resi)"
   ]
  },
  {
   "cell_type": "code",
   "execution_count": 30,
   "id": "ecd39cab",
   "metadata": {},
   "outputs": [],
   "source": [
    "resi2['label2'] = np.where(resi2['label']=='NEGATIVE',0,1)"
   ]
  },
  {
   "cell_type": "code",
   "execution_count": 34,
   "id": "9079c2b6",
   "metadata": {
    "scrolled": true
   },
   "outputs": [
    {
     "data": {
      "text/plain": [
       "0.8477606494572654"
      ]
     },
     "execution_count": 34,
     "metadata": {},
     "output_type": "execute_result"
    }
   ],
   "source": [
    "accuracy_score(y_train, resi2['label2'])"
   ]
  }
 ],
 "metadata": {
  "kernelspec": {
   "display_name": "diploma_env",
   "language": "python",
   "name": "diploma_env"
  },
  "language_info": {
   "codemirror_mode": {
    "name": "ipython",
    "version": 3
   },
   "file_extension": ".py",
   "mimetype": "text/x-python",
   "name": "python",
   "nbconvert_exporter": "python",
   "pygments_lexer": "ipython3",
   "version": "3.10.6"
  }
 },
 "nbformat": 4,
 "nbformat_minor": 5
}
